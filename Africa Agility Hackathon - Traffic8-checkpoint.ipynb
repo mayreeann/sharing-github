{
 "cells": [
  {
   "cell_type": "code",
   "execution_count": null,
   "metadata": {},
   "outputs": [],
   "source": [
    "import pandas as pd\n",
    "import numpy as np\n",
    "import matplotlib.pyplot as plt\n",
    "import seaborn as sns\n",
    "%matplotlib inline\n",
    "import warnings\n",
    "warnings.filterwarnings('ignore')"
   ]
  },
  {
   "cell_type": "code",
   "execution_count": null,
   "metadata": {},
   "outputs": [],
   "source": [
    "pd.set_option('display.max_rows',1000)\n",
    "pd.set_option('display.max_columns',40)\n",
    "pd.set_option('max_colwidth',1000)"
   ]
  },
  {
   "cell_type": "code",
   "execution_count": null,
   "metadata": {},
   "outputs": [],
   "source": [
    "Traffic = pd.read_csv('accidents_2012_to_2014.csv')\n",
    "Traffic.tail()"
   ]
  },
  {
   "cell_type": "code",
   "execution_count": null,
   "metadata": {},
   "outputs": [],
   "source": [
    "Traffic.info"
   ]
  },
  {
   "cell_type": "code",
   "execution_count": null,
   "metadata": {},
   "outputs": [],
   "source": [
    "Traffic.describe()"
   ]
  },
  {
   "cell_type": "code",
   "execution_count": null,
   "metadata": {},
   "outputs": [],
   "source": [
    "Traffic.isnull().sum()"
   ]
  },
  {
   "cell_type": "code",
   "execution_count": null,
   "metadata": {},
   "outputs": [],
   "source": [
    "pd.DataFrame(Traffic.keys())"
   ]
  },
  {
   "cell_type": "code",
   "execution_count": null,
   "metadata": {},
   "outputs": [],
   "source": [
    "Traffic['Time'].unique() # 13 nan values"
   ]
  },
  {
   "cell_type": "code",
   "execution_count": null,
   "metadata": {},
   "outputs": [],
   "source": [
    "Traffic['Time'].fillna(value=Traffic['Time'].mode().index[0], inplace = True)\n",
    "Traffic['Time'].isnull().sum()"
   ]
  },
  {
   "cell_type": "code",
   "execution_count": null,
   "metadata": {},
   "outputs": [],
   "source": [
    "Traffic['Junction_Detail'].unique() # 464697"
   ]
  },
  {
   "cell_type": "code",
   "execution_count": null,
   "metadata": {},
   "outputs": [],
   "source": [
    "Traffic.drop('Junction_Detail', axis = 1, inplace = True)\n",
    "pd.DataFrame(Traffic.keys())"
   ]
  },
  {
   "cell_type": "code",
   "execution_count": null,
   "metadata": {},
   "outputs": [],
   "source": [
    "Traffic['Junction_Control'].unique() # 178610"
   ]
  },
  {
   "cell_type": "code",
   "execution_count": null,
   "metadata": {},
   "outputs": [],
   "source": [
    "sns.catplot(x = 'Junction_Control', y = 'Number_of_Casualties', data = Traffic, color = True, palette = 'rainbow', height = 5, aspect = 2);"
   ]
  },
  {
   "cell_type": "code",
   "execution_count": null,
   "metadata": {},
   "outputs": [],
   "source": [
    "Traffic['Number_of_Casualties'].unique()"
   ]
  },
  {
   "cell_type": "code",
   "execution_count": null,
   "metadata": {},
   "outputs": [],
   "source": [
    "Traffic[Traffic['Number_of_Casualties'] == 54]['Junction_Control']"
   ]
  },
  {
   "cell_type": "code",
   "execution_count": null,
   "metadata": {},
   "outputs": [],
   "source": [
    "def impute_control(cols):\n",
    "    Number_of_Casualties = cols[0]\n",
    "    Junction_Control = cols[1]\n",
    "    \n",
    "    if pd.isnull(Junction_Control):\n",
    "\n",
    "        if Number_of_Casualties < 20:\n",
    "            return 'Giveway or uncontrolled'\n",
    "\n",
    "        elif Number_of_Casualties >=20 and Number_of_Casualties <60:\n",
    "            return 'Automatic traffic signal'\n",
    "\n",
    "        else:\n",
    "            return 'Stop Sign'\n",
    "\n",
    "    else:\n",
    "        return Junction_Control"
   ]
  },
  {
   "cell_type": "code",
   "execution_count": null,
   "metadata": {},
   "outputs": [],
   "source": [
    "Traffic['Junction_Control'] = Traffic[['Junction_Control','Number_of_Casualties']].apply(impute_control,axis=1)"
   ]
  },
  {
   "cell_type": "code",
   "execution_count": null,
   "metadata": {},
   "outputs": [],
   "source": [
    "Traffic.isnull().sum()"
   ]
  },
  {
   "cell_type": "code",
   "execution_count": null,
   "metadata": {},
   "outputs": [],
   "source": [
    "Traffic['Road_Surface_Conditions'].unique() # 755"
   ]
  },
  {
   "cell_type": "code",
   "execution_count": null,
   "metadata": {},
   "outputs": [],
   "source": [
    "a = Traffic[Traffic['Road_Surface_Conditions']=='Frost/Ice']\n",
    "Traffic.drop(a.index, inplace = True)\n",
    "Traffic['Road_Surface_Conditions'].unique()"
   ]
  },
  {
   "cell_type": "code",
   "execution_count": null,
   "metadata": {},
   "outputs": [],
   "source": [
    "b = Traffic[Traffic['Road_Surface_Conditions']=='Snow']\n",
    "Traffic.drop(b.index, inplace = True)\n",
    "Traffic['Road_Surface_Conditions'].unique()"
   ]
  },
  {
   "cell_type": "code",
   "execution_count": null,
   "metadata": {},
   "outputs": [],
   "source": [
    "Traffic['Road_Surface_Conditions'].isnull().sum()"
   ]
  },
  {
   "cell_type": "code",
   "execution_count": null,
   "metadata": {},
   "outputs": [],
   "source": [
    "Traffic[Traffic['Road_Surface_Conditions'] == 'Flood (Over 3cm of water)']['Number_of_Casualties'].count()"
   ]
  },
  {
   "cell_type": "code",
   "execution_count": null,
   "metadata": {},
   "outputs": [],
   "source": [
    "def impute_conditions(cols):\n",
    "    Number_of_Casualties = cols[0]\n",
    "    Road_Surface_Conditions = cols[1]\n",
    "    \n",
    "    if pd.isnull(Road_Surface_Conditions):\n",
    "\n",
    "        if Number_of_Casualties < 20:\n",
    "            return 'Dry'\n",
    "\n",
    "        elif Number_of_Casualties >=20 and Number_of_Casualties <60:\n",
    "            return 'Wet/Damp'\n",
    "\n",
    "        else:\n",
    "            return 'Flood (Over 3cm of water)'\n",
    "\n",
    "    else:\n",
    "        return Road_Surface_Conditions"
   ]
  },
  {
   "cell_type": "code",
   "execution_count": null,
   "metadata": {},
   "outputs": [],
   "source": [
    "Traffic['Road_Surface_Conditions'] = Traffic[['Road_Surface_Conditions','Number_of_Casualties']].apply(impute_conditions,axis=1)"
   ]
  },
  {
   "cell_type": "code",
   "execution_count": null,
   "metadata": {},
   "outputs": [],
   "source": [
    "Traffic.isnull().sum()"
   ]
  },
  {
   "cell_type": "code",
   "execution_count": null,
   "metadata": {},
   "outputs": [],
   "source": [
    "Traffic['Local_Authority_(District)'].unique()"
   ]
  },
  {
   "cell_type": "code",
   "execution_count": null,
   "metadata": {},
   "outputs": [],
   "source": [
    "Traffic['Local_Authority_(Highway)'].unique()"
   ]
  },
  {
   "cell_type": "code",
   "execution_count": null,
   "metadata": {},
   "outputs": [],
   "source": [
    "Traffic['Special_Conditions_at_Site'].unique() #2"
   ]
  },
  {
   "cell_type": "code",
   "execution_count": null,
   "metadata": {},
   "outputs": [],
   "source": [
    "Traffic['Junction_Control'].unique()"
   ]
  },
  {
   "cell_type": "code",
   "execution_count": null,
   "metadata": {},
   "outputs": [],
   "source": [
    "Traffic['Special_Conditions_at_Site'].fillna(value=Traffic['Special_Conditions_at_Site'].mode().index[0], inplace = True)\n",
    "Traffic['Special_Conditions_at_Site'].isnull().sum()"
   ]
  },
  {
   "cell_type": "code",
   "execution_count": null,
   "metadata": {},
   "outputs": [],
   "source": [
    "Traffic['Carriageway_Hazards'].unique() #3"
   ]
  },
  {
   "cell_type": "code",
   "execution_count": null,
   "metadata": {},
   "outputs": [],
   "source": [
    "Traffic['Carriageway_Hazards'].fillna(value=Traffic['Carriageway_Hazards'].mode().index[0], inplace = True)\n",
    "Traffic['Carriageway_Hazards'].isnull().sum()"
   ]
  },
  {
   "cell_type": "code",
   "execution_count": null,
   "metadata": {},
   "outputs": [],
   "source": [
    "Traffic['Did_Police_Officer_Attend_Scene_of_Accident'].unique() #2"
   ]
  },
  {
   "cell_type": "code",
   "execution_count": null,
   "metadata": {},
   "outputs": [],
   "source": [
    "Traffic['Did_Police_Officer_Attend_Scene_of_Accident'].fillna(value=Traffic['Did_Police_Officer_Attend_Scene_of_Accident'].mode().index[0], inplace = True)\n",
    "Traffic['Did_Police_Officer_Attend_Scene_of_Accident'].isnull().sum()"
   ]
  },
  {
   "cell_type": "code",
   "execution_count": null,
   "metadata": {},
   "outputs": [],
   "source": [
    "Traffic['LSOA_of_Accident_Location'].unique() # 28718"
   ]
  },
  {
   "cell_type": "code",
   "execution_count": null,
   "metadata": {},
   "outputs": [],
   "source": [
    "Traffic.dropna(inplace = True)"
   ]
  },
  {
   "cell_type": "code",
   "execution_count": null,
   "metadata": {},
   "outputs": [],
   "source": [
    "Traffic.isnull().sum()"
   ]
  },
  {
   "cell_type": "code",
   "execution_count": null,
   "metadata": {},
   "outputs": [],
   "source": [
    "Traffic.head()"
   ]
  },
  {
   "cell_type": "code",
   "execution_count": null,
   "metadata": {},
   "outputs": [],
   "source": [
    "Traffic.shape"
   ]
  },
  {
   "cell_type": "code",
   "execution_count": null,
   "metadata": {},
   "outputs": [],
   "source": [
    "Traffic.tail(40)"
   ]
  },
  {
   "cell_type": "code",
   "execution_count": null,
   "metadata": {},
   "outputs": [],
   "source": [
    "Traffic['Police_Force'].unique()"
   ]
  },
  {
   "cell_type": "code",
   "execution_count": null,
   "metadata": {},
   "outputs": [],
   "source": [
    "fig1=sns.catplot(x='Number_of_Casualties',y = 'Number_of_Vehicles', hue = 'Accident_Severity', kind='point',aspect = 3, data=Traffic)\n",
    "fig1"
   ]
  },
  {
   "cell_type": "code",
   "execution_count": null,
   "metadata": {},
   "outputs": [],
   "source": [
    "plt.plot(x= Traffic['Number_of_Casualties'],y= Traffic['Accident_Severity'],color='green', marker='d', linestyle='dotted',\n",
    "...      linewidth=3, markersize=8) \n",
    "plt.xlabel('Number of Casualties')\n",
    "plt.ylabel('Accident Severity')\n",
    "plt.title('Number of Casualties Vs Accident Severity')\n",
    "plt.show();"
   ]
  },
  {
   "cell_type": "code",
   "execution_count": null,
   "metadata": {},
   "outputs": [],
   "source": [
    "fig=sns.catplot(x='Number_of_Casualties', kind='count',aspect = 3, data=Traffic)\n",
    "plt.ylim(1,)\n",
    "fig"
   ]
  },
  {
   "cell_type": "code",
   "execution_count": null,
   "metadata": {},
   "outputs": [],
   "source": [
    "fig.savefig(\"Number of Casualties Count.png\")"
   ]
  },
  {
   "cell_type": "code",
   "execution_count": null,
   "metadata": {},
   "outputs": [],
   "source": [
    "Pedestrians = sns.catplot(x='Pedestrian_Crossing-Physical_Facilities',hue='Accident_Severity',kind='count',data=Traffic, height=7, aspect=2.7)\n",
    "Pedestrians"
   ]
  },
  {
   "cell_type": "code",
   "execution_count": null,
   "metadata": {},
   "outputs": [],
   "source": [
    "Pedestrians.savefig('Pedestrian Crossing Vs Accident Severity.png', dpi =85)"
   ]
  },
  {
   "cell_type": "code",
   "execution_count": null,
   "metadata": {},
   "outputs": [],
   "source": [
    "Traffic['Special_Conditions_at_Site'].unique()"
   ]
  },
  {
   "cell_type": "code",
   "execution_count": null,
   "metadata": {},
   "outputs": [],
   "source": [
    "Special_Conditions = sns.catplot(x='Special_Conditions_at_Site',hue='Accident_Severity',kind='count',data=Traffic, palette = 'rainbow',height=7, aspect=3.3)\n",
    "Special_Conditions"
   ]
  },
  {
   "cell_type": "code",
   "execution_count": null,
   "metadata": {},
   "outputs": [],
   "source": [
    "Special_Conditions.savefig('Special_Conditions Vs Accident Severity.png', dpi =85)"
   ]
  },
  {
   "cell_type": "code",
   "execution_count": null,
   "metadata": {},
   "outputs": [],
   "source": [
    "Traffic['Hour'] = Traffic['Time'].str[0:2]\n",
    "Traffic['Hour'] = pd.to_numeric(Traffic['Hour'])\n",
    "Traffic = Traffic.dropna(subset=['Hour'])\n",
    "Traffic['Hour'] = Traffic['Hour'].astype('int')"
   ]
  },
  {
   "cell_type": "code",
   "execution_count": null,
   "metadata": {},
   "outputs": [],
   "source": [
    "def time_of_day(hour):\n",
    "    if hour >= 5 and hour <10:\n",
    "        return 'morning rush (5am - 10am)'\n",
    "    elif hour >=10 and hour <15:\n",
    "        return 'office hours (10am - 3pm)'\n",
    "    elif hour >=15 and hour <19:\n",
    "        return 'afternoon rush (3pm - 7pm)'\n",
    "    elif hour >=19 and hour <23:\n",
    "        return 'evening (7pm - 11pm)'\n",
    "    else:\n",
    "        return 'night (11pm - 5am)'\n",
    "Traffic['Daytime'] = Traffic['Hour'].apply(time_of_day)\n",
    "Traffic[['Time','Hour','Daytime']].head(10)"
   ]
  },
  {
   "cell_type": "code",
   "execution_count": null,
   "metadata": {},
   "outputs": [],
   "source": [
    "Traffic.head()"
   ]
  },
  {
   "cell_type": "code",
   "execution_count": null,
   "metadata": {},
   "outputs": [],
   "source": [
    "Traffic.drop('Time', axis = 1, inplace = True)\n",
    "Traffic"
   ]
  },
  {
   "cell_type": "code",
   "execution_count": null,
   "metadata": {},
   "outputs": [],
   "source": [
    "Time_of_day = Traffic.groupby('Daytime')\n",
    "Time_of_day.head()"
   ]
  },
  {
   "cell_type": "code",
   "execution_count": null,
   "metadata": {},
   "outputs": [],
   "source": [
    "Traffic.groupby('Daytime').size()"
   ]
  },
  {
   "cell_type": "code",
   "execution_count": null,
   "metadata": {},
   "outputs": [],
   "source": [
    "Traffic.groupby('Daytime').size().plot(kind = 'bar', color = 'purple', figsize = (12,8), grid = False)\n",
    "plt.xticks(np.arange(5),('afternoon rush (3pm - 7pm)', 'evening (7pm - 11pm)', 'morning rush (5am - 10am)','night (11pm - 5am)', 'office hours (10am - 3pm)'),rotation = 'horizontal')\n",
    "plt.xlabel('Time of Day', fontsize = 12, fontweight = 'bold')\n",
    "plt.ylabel('Count', fontsize = 12, fontweight = 'bold')\n",
    "plt.title('Total Number of Accidents by Time of Day', fontsize = 14, fontweight = 'bold')\n",
    "plt.show();"
   ]
  },
  {
   "cell_type": "code",
   "execution_count": null,
   "metadata": {},
   "outputs": [],
   "source": [
    "Traffic.groupby('Daytime')['Number_of_Casualties'].mean()"
   ]
  },
  {
   "cell_type": "code",
   "execution_count": null,
   "metadata": {},
   "outputs": [],
   "source": [
    "Traffic.groupby('Daytime')['Number_of_Casualties'].mean().plot(kind = 'bar', color = 'lightblue', figsize = (12,8), grid = False)\n",
    "plt.xticks(np.arange(5),('afternoon rush (3pm - 7pm)', 'evening (7pm - 11pm)', 'morning rush (5am - 10am)','night (11pm - 5am)', 'office hours (10am - 3pm)'), rotation = 'horizontal')\n",
    "plt.ylim((1, 1.5))\n",
    "plt.xlabel('')\n",
    "plt.ylabel('Average Number of Casualties', fontsize = 12, fontweight = 'bold')\n",
    "plt.title('Average Number of Casualties by Time of Day', fontsize = 14, fontweight = 'bold')\n",
    "plt.show()"
   ]
  },
  {
   "cell_type": "code",
   "execution_count": null,
   "metadata": {},
   "outputs": [],
   "source": [
    "Traffic['Date'] = pd.to_datetime(Traffic['Date'], format = '%d/%m/%Y')"
   ]
  },
  {
   "cell_type": "code",
   "execution_count": null,
   "metadata": {},
   "outputs": [],
   "source": [
    "# Has the number of accidents increased or decreased over the last few years?\n",
    "\n",
    "yearly_count = Traffic['Date'].dt.year.value_counts().sort_index(ascending = False)\n",
    "\n",
    "sns.set_style('whitegrid')\n",
    "fig, ax = plt.subplots(figsize=(10,10))\n",
    "\n",
    "ax.bar(yearly_count.index, yearly_count.values, color = 'darkred')\n",
    "ax.set_title('Accidents per Year', fontsize = 14, fontweight = 'bold')\n",
    "ax.set_ylabel('Total Counts', fontsize = 14, fontweight = 'bold')\n",
    "plt.xlim(2011,2015)\n",
    "\n",
    "\n",
    "sns.despine(ax = ax, top = True, right = True, left = True, bottom = True)\n",
    "plt.show(),"
   ]
  },
  {
   "cell_type": "code",
   "execution_count": null,
   "metadata": {},
   "outputs": [],
   "source": [
    "Traffic['Road_Type'].unique()"
   ]
  },
  {
   "cell_type": "code",
   "execution_count": null,
   "metadata": {},
   "outputs": [],
   "source": [
    "Traffic.groupby('Road_Type')['Number_of_Casualties'].mean().plot(kind = 'bar', color =[ 'green','blue','k','y','orange','pink'], figsize = (12,8), grid = False)\n",
    "plt.xticks(np.arange(6),('Dual carriageway','One way street','Roundabout','Single carriageway','Slip road','Unknown'), rotation = 'horizontal')\n",
    "plt.ylim((1.1,1.6))\n",
    "plt.xlabel('')\n",
    "plt.ylabel('Average Number of Casualties', fontsize = 12, fontweight = 'bold')\n",
    "plt.title('Average Number of Casualties by Road Type', fontsize= 14, fontweight = 'bold')\n",
    "plt.show();"
   ]
  },
  {
   "cell_type": "code",
   "execution_count": null,
   "metadata": {},
   "outputs": [],
   "source": [
    "Traffic.groupby('Road_Type')['Number_of_Casualties'].mean()"
   ]
  },
  {
   "cell_type": "code",
   "execution_count": null,
   "metadata": {},
   "outputs": [],
   "source": [
    "Traffic.groupby('Speed_limit')['Number_of_Casualties'].mean()"
   ]
  },
  {
   "cell_type": "code",
   "execution_count": null,
   "metadata": {},
   "outputs": [],
   "source": [
    "Traffic.groupby('Speed_limit')['Number_of_Casualties'].mean().plot(kind = 'bar', color = 'brown', figsize = (12,8), grid = False)\n",
    "plt.xticks(np.arange(6),('20mph', '30mph','40mph','50mph','60mph','70mph'), rotation = 'horizontal')\n",
    "plt.ylim((1.0,1.8))\n",
    "plt.xlabel('')\n",
    "plt.ylabel('Average Number of Casualties', fontsize = 12, fontweight = 'bold')\n",
    "plt.title('Average Number of Casualties by Speed Limit', fontsize = 14, fontweight = 'bold')\n",
    "plt.show();"
   ]
  },
  {
   "cell_type": "code",
   "execution_count": null,
   "metadata": {},
   "outputs": [],
   "source": [
    "Traffic.groupby('Year')['Number_of_Casualties'].mean()"
   ]
  },
  {
   "cell_type": "code",
   "execution_count": null,
   "metadata": {},
   "outputs": [],
   "source": [
    "Traffic.groupby('Year')['Number_of_Casualties'].mean().plot(kind = 'bar', color = 'magenta', figsize = (12,8), grid = False)\n",
    "plt.xticks(np.arange(3),('2012', '2013','2014'), rotation = 'horizontal')\n",
    "plt.ylim((1.2,1.4))\n",
    "plt.xlabel('')\n",
    "plt.ylabel('Average Number of Casualties', fontsize = 12, fontweight = 'bold')\n",
    "plt.title('Average Number of Casualties by Year', fontsize = 14, fontweight = 'bold')\n",
    "plt.show();"
   ]
  },
  {
   "cell_type": "code",
   "execution_count": null,
   "metadata": {},
   "outputs": [],
   "source": [
    "Traffic.groupby('Day_of_Week')['Number_of_Casualties'].mean()"
   ]
  },
  {
   "cell_type": "code",
   "execution_count": null,
   "metadata": {},
   "outputs": [],
   "source": [
    "Traffic.groupby('Day_of_Week')['Number_of_Casualties'].mean().plot(kind = 'bar', color = 'darkcyan', figsize = (12,8), grid = False)\n",
    "plt.xticks(np.arange(7),('Monday', 'Tuesday','Wednesday','Thurday','Friday','Saturday','Sunday'), rotation = 'horizontal')\n",
    "plt.ylim((1.2,1.5))\n",
    "plt.xlabel('')\n",
    "plt.ylabel('Average Number of Casualties', fontsize = 12, fontweight = 'bold')\n",
    "plt.title('Average Number of Casualties by Day of Week', fontsize = 14, fontweight = 'bold')\n",
    "plt.show();"
   ]
  },
  {
   "cell_type": "code",
   "execution_count": null,
   "metadata": {},
   "outputs": [],
   "source": [
    "Traffic.groupby('Day_of_Week')['Number_of_Casualties'].size()"
   ]
  },
  {
   "cell_type": "code",
   "execution_count": null,
   "metadata": {},
   "outputs": [],
   "source": [
    "labels = 'Monday','Tuesday', 'Wednesday', 'Thursday', 'Friday', 'Saturday', 'Sunday'\n",
    "sizes = [45874, 61010, 64507, 64467, 65236, 69791, 55375] \n",
    "explode = (0, 0, 0, 0, 0, 0.1, 0) \n",
    "color = ['white','pink','brown','purple', 'green','magenta','darkred']\n",
    "\n",
    "fig1, ax1= plt.subplots()\n",
    "ax1.pie(sizes, explode=explode, labels=labels, colors = color,autopct = '%1.1f%%', shadow = True, startangle=90) \n",
    "ax1.axis('equal')\n",
    "plt.title('Number of Casualties by Day of Week')\n",
    "plt.style.use('seaborn')\n",
    "plt.show();"
   ]
  },
  {
   "cell_type": "code",
   "execution_count": null,
   "metadata": {},
   "outputs": [],
   "source": [
    "Traffic.keys()"
   ]
  },
  {
   "cell_type": "code",
   "execution_count": null,
   "metadata": {},
   "outputs": [],
   "source": [
    "Traffic.drop(columns=['Accident_Index', 'Location_Easting_OSGR', 'Location_Northing_OSGR','Police_Force', 'Local_Authority_(District)','Local_Authority_(Highway)'], axis = 1, inplace = True)\n",
    "Traffic.head()"
   ]
  },
  {
   "cell_type": "code",
   "execution_count": null,
   "metadata": {},
   "outputs": [],
   "source": [
    "Traffic.info()"
   ]
  },
  {
   "cell_type": "code",
   "execution_count": null,
   "metadata": {},
   "outputs": [],
   "source": [
    "Traffic.drop('LSOA_of_Accident_Location', axis = 1, inplace = True)"
   ]
  },
  {
   "cell_type": "code",
   "execution_count": null,
   "metadata": {},
   "outputs": [],
   "source": [
    "Traffic['Date'] = pd.to_datetime(Traffic['Date'], format= '%d/%m/%Y')\n",
    "Traffic['Month'] = Traffic['Date'].dt.month\n",
    "Traffic['Day'] = Traffic['Date'].dt.day\n",
    "Traffic.head()"
   ]
  },
  {
   "cell_type": "code",
   "execution_count": null,
   "metadata": {},
   "outputs": [],
   "source": [
    "Traffic.drop('Date', axis = 1, inplace = True)\n",
    "Traffic.head()"
   ]
  },
  {
   "cell_type": "code",
   "execution_count": null,
   "metadata": {},
   "outputs": [],
   "source": [
    "Traffic.drop('Daytime', axis = 1, inplace = True)\n",
    "Traffic.head()"
   ]
  },
  {
   "cell_type": "code",
   "execution_count": null,
   "metadata": {},
   "outputs": [],
   "source": [
    "pd.DataFrame(Traffic.keys())"
   ]
  },
  {
   "cell_type": "code",
   "execution_count": null,
   "metadata": {},
   "outputs": [],
   "source": [
    "Traffic['1st_Road_Class'].unique() "
   ]
  },
  {
   "cell_type": "code",
   "execution_count": null,
   "metadata": {},
   "outputs": [],
   "source": [
    "Traffic['Junction_Control'].unique()"
   ]
  },
  {
   "cell_type": "code",
   "execution_count": null,
   "metadata": {},
   "outputs": [],
   "source": [
    "Traffic_new = pd.get_dummies(Traffic,columns=['Road_Type','Pedestrian_Crossing-Human_Control','Pedestrian_Crossing-Physical_Facilities','Light_Conditions','Weather_Conditions','Special_Conditions_at_Site','Carriageway_Hazards', 'Did_Police_Officer_Attend_Scene_of_Accident'], drop_first = True)\n",
    "Traffic_new.head()"
   ]
  },
  {
   "cell_type": "code",
   "execution_count": null,
   "metadata": {},
   "outputs": [],
   "source": [
    "pd.DataFrame(Traffic_new.keys())"
   ]
  },
  {
   "cell_type": "code",
   "execution_count": null,
   "metadata": {},
   "outputs": [],
   "source": [
    "Traffic_new.drop(columns = ['Longitude', 'Latitude', '1st_Road_Class','1st_Road_Number','2nd_Road_Class','2nd_Road_Number', 'Weather_Conditions_Snowing with high winds','Weather_Conditions_Snowing without high winds'], axis = 1, inplace = True)\n",
    "Traffic_new.keys()"
   ]
  },
  {
   "cell_type": "code",
   "execution_count": null,
   "metadata": {},
   "outputs": [],
   "source": [
    "My_data = Traffic_new.to_csv('Transportation Dataset.csv', index = False)"
   ]
  },
  {
   "cell_type": "code",
   "execution_count": null,
   "metadata": {},
   "outputs": [],
   "source": [
    "condition = (Traffic_new['Number_of_Vehicles'] < 6) & (Traffic_new['Number_of_Casualties'] < 9)\n",
    "Traffic_new = Traffic_new[condition]"
   ]
  },
  {
   "cell_type": "code",
   "execution_count": null,
   "metadata": {},
   "outputs": [],
   "source": [
    "Traffic_new['Number_of_Vehicles'].value_counts()"
   ]
  },
  {
   "cell_type": "code",
   "execution_count": null,
   "metadata": {},
   "outputs": [],
   "source": [
    "Traffic_new['Number_of_Casualties'].value_counts()"
   ]
  },
  {
   "cell_type": "code",
   "execution_count": null,
   "metadata": {},
   "outputs": [],
   "source": [
    "X=Traffic_new.drop('Number_of_Casualties', axis = 1)\n",
    "X.shape"
   ]
  },
  {
   "cell_type": "code",
   "execution_count": null,
   "metadata": {},
   "outputs": [],
   "source": [
    "y=Traffic_new['Number_of_Casualties']\n",
    "y.shape"
   ]
  },
  {
   "cell_type": "code",
   "execution_count": null,
   "metadata": {},
   "outputs": [],
   "source": [
    "from sklearn.feature_selection import SelectKBest\n",
    "from sklearn.feature_selection import chi2\n",
    "bestfeatures = SelectKBest(score_func=chi2, k = 'all')\n",
    "fit = bestfeatures.fit(X,y)\n",
    "dfscores = pd.DataFrame(fit.scores_)\n",
    "dfcolumns = pd.DataFrame(X.columns)\n",
    "featureScores = pd.concat([dfcolumns,dfscores], axis = 1)\n",
    "featureScores.columns = ['Specs','Score']\n",
    "important = pd.DataFrame(featureScores.nlargest(60,'Score'))\n",
    "important"
   ]
  },
  {
   "cell_type": "code",
   "execution_count": null,
   "metadata": {},
   "outputs": [],
   "source": [
    "X.drop(['Carriageway_Hazards_Pedestrian in carriageway (not injured)', 'Pedestrian_Crossing-Human_Control_Control by school crossing patrol','Weather_Conditions_Other','Weather_Conditions_Fine without high winds','Special_Conditions_at_Site_Ol or diesel','Pedestrian_Crossing-Physical_Facilities_Footbridge or subway','Carriageway_Hazards_Other object in carriageway','Special_Conditions_at_Site_Mud','Carriageway_Hazards_Dislodged vehicle load in carriageway','Day_of_Week','Special_Conditions_at_Site_None','Carriageway_Hazards_None','Pedestrian_Crossing-Human_Control_None within 50 metres','Year'], axis = 1, inplace = True)\n",
    "X.keys()"
   ]
  },
  {
   "cell_type": "code",
   "execution_count": null,
   "metadata": {},
   "outputs": [],
   "source": [
    "from sklearn.model_selection import train_test_split\n",
    "X_train,X_test,y_train,y_test = train_test_split(X,y,test_size = 0.30, random_state = 101)"
   ]
  },
  {
   "cell_type": "code",
   "execution_count": null,
   "metadata": {},
   "outputs": [],
   "source": [
    "from sklearn.preprocessing import StandardScaler\n",
    "SC_X=StandardScaler()\n",
    "SC_Y=StandardScaler()"
   ]
  },
  {
   "cell_type": "code",
   "execution_count": null,
   "metadata": {},
   "outputs": [],
   "source": [
    "X_train=SC_X.fit_transform(X_train)"
   ]
  },
  {
   "cell_type": "code",
   "execution_count": null,
   "metadata": {},
   "outputs": [],
   "source": [
    "X_test=SC_X.fit_transform(X_test)"
   ]
  },
  {
   "cell_type": "code",
   "execution_count": null,
   "metadata": {},
   "outputs": [],
   "source": [
    "from sklearn.linear_model import LinearRegression\n",
    "lm = LinearRegression()\n",
    "lm.fit(X_train, y_train)"
   ]
  },
  {
   "cell_type": "code",
   "execution_count": null,
   "metadata": {},
   "outputs": [],
   "source": [
    "X_predict = lm.predict(X_train)"
   ]
  },
  {
   "cell_type": "code",
   "execution_count": null,
   "metadata": {},
   "outputs": [],
   "source": [
    "print(lm.intercept_)"
   ]
  },
  {
   "cell_type": "code",
   "execution_count": null,
   "metadata": {},
   "outputs": [],
   "source": [
    "coeff_df = pd.DataFrame(lm.coef_,X.columns, columns = ['Coefficient'])\n",
    "coeff_df"
   ]
  },
  {
   "cell_type": "code",
   "execution_count": null,
   "metadata": {},
   "outputs": [],
   "source": [
    "predictions = lm.predict(X_test)\n",
    "pred = pd.DataFrame(predictions)"
   ]
  },
  {
   "cell_type": "code",
   "execution_count": null,
   "metadata": {},
   "outputs": [],
   "source": [
    "pred.rename(columns={0:'Predictions'}, inplace = True)\n",
    "pred"
   ]
  },
  {
   "cell_type": "code",
   "execution_count": null,
   "metadata": {},
   "outputs": [],
   "source": [
    "Predictions = pred['Predictions'].apply(np.ceil)\n",
    "pd.DataFrame(Predictions)"
   ]
  },
  {
   "cell_type": "code",
   "execution_count": null,
   "metadata": {},
   "outputs": [],
   "source": [
    "y_test.head()"
   ]
  },
  {
   "cell_type": "code",
   "execution_count": null,
   "metadata": {},
   "outputs": [],
   "source": [
    "plt.scatter(y_test, Predictions);"
   ]
  },
  {
   "cell_type": "code",
   "execution_count": null,
   "metadata": {},
   "outputs": [],
   "source": [
    "sns.distplot(Predictions, kde = False);"
   ]
  },
  {
   "cell_type": "code",
   "execution_count": null,
   "metadata": {},
   "outputs": [],
   "source": [
    "sns.distplot(y_test-predictions, bins = 20, kde = False);"
   ]
  },
  {
   "cell_type": "code",
   "execution_count": null,
   "metadata": {},
   "outputs": [],
   "source": [
    "from sklearn import metrics"
   ]
  },
  {
   "cell_type": "code",
   "execution_count": null,
   "metadata": {},
   "outputs": [],
   "source": [
    "print('MAE:', metrics.mean_absolute_error(y_test, predictions))\n",
    "print('MSE:', metrics.mean_squared_error(y_test, predictions))\n",
    "print('RMSE:', np.sqrt(metrics.mean_squared_error(y_test, predictions)))"
   ]
  },
  {
   "cell_type": "code",
   "execution_count": null,
   "metadata": {},
   "outputs": [],
   "source": []
  }
 ],
 "metadata": {
  "kernelspec": {
   "display_name": "Python 3",
   "language": "python",
   "name": "python3"
  },
  "language_info": {
   "codemirror_mode": {
    "name": "ipython",
    "version": 3
   },
   "file_extension": ".py",
   "mimetype": "text/x-python",
   "name": "python",
   "nbconvert_exporter": "python",
   "pygments_lexer": "ipython3",
   "version": "3.7.3"
  }
 },
 "nbformat": 4,
 "nbformat_minor": 2
}
